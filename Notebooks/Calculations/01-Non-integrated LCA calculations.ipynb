{
 "cells": [
  {
   "cell_type": "markdown",
   "metadata": {},
   "source": [
    "## **Calculations for non-integrated LCA**"
   ]
  },
  {
   "cell_type": "markdown",
   "metadata": {},
   "source": [
    "📍 **World activity calculations are performed to get breakdown results down to the first level**\n",
    "\n",
    "📍 **Regional activity calculations are performed to get total scores**"
   ]
  },
  {
   "cell_type": "code",
   "execution_count": null,
   "metadata": {},
   "outputs": [],
   "source": [
    "from brightway2 import *\n",
    "import bw2data as bd\n",
    "import pyprind\n",
    "from pathlib import Path\n",
    "import pandas as pd"
   ]
  },
  {
   "cell_type": "code",
   "execution_count": null,
   "metadata": {},
   "outputs": [],
   "source": [
    "projects.set_current(\"Integrated LCA project\") #<---- Project name\n",
    "databaseNames = databases\n",
    "myDatabaseNames = []\n",
    "for databaseName in databaseNames:\n",
    "    if'_3.8_' not in databaseName and 'bio' not in databaseName and 'eco' not in databaseName and not 'A_' in databaseName:\n",
    "        myDatabaseNames.append(databaseName)\n",
    "myDatabaseNames.sort()"
   ]
  },
  {
   "cell_type": "markdown",
   "metadata": {},
   "source": [
    "##### **Choose method to run LCIA**"
   ]
  },
  {
   "cell_type": "code",
   "execution_count": null,
   "metadata": {},
   "outputs": [],
   "source": [
    "GWPMethod2021 = [method for method in methods if 'IPCC 2021' in str(method) and  'climate change: including SLCFs' \n",
    "                in str(method) and 'GWP 100a, incl. H and bio CO2' in str(method) and not 'no LT' in str(method)]\n",
    "method = [GWPMethod2021][0]\n",
    "method"
   ]
  },
  {
   "cell_type": "markdown",
   "metadata": {},
   "source": [
    "##### **1. Function that calculates the breakdown LCA impacts**"
   ]
  },
  {
   "cell_type": "code",
   "execution_count": null,
   "metadata": {},
   "outputs": [],
   "source": [
    "def breakdown_calculations(db, activity):\n",
    "    activitiesList = [{activity : 1}]\n",
    "    for exchange in activity.technosphere():\n",
    "        activitiesList.append({Database(exchange.input.key[0]).get(exchange.input.key[1]) : exchange.amount})\n",
    "    calculationSetup = {'inv' : activitiesList, 'ia' : method}  #<---- Change the method when you need to\n",
    "    calculation_setups['breakdown'] = calculationSetup\n",
    "    myLCA = MultiLCA('breakdown')\n",
    "    results = pd.DataFrame(myLCA.results.transpose(), columns = [str(list(i.keys())[0]).split('\\'')[1] for i in activitiesList], index = pd.MultiIndex.from_tuples(method))\n",
    "    results = results.sort_index().drop(index = [i for i in results.index if i[0] == 'rest'])\n",
    "    directEmissions = pd.DataFrame([0 if abs(results.iloc[r,0] - results.iloc[r,1:].sum()) / abs(results.iloc[r,0]) < 1e-5 else results.iloc[r, 0] - results.iloc[r, 1:].sum() for r in range(len(results.index))],\n",
    "                                      columns = ['direct emissions'],\n",
    "                                      index = results.index)\n",
    "    results = pd.concat([results, directEmissions], axis = 1)\n",
    "    results['database'] = db.name\n",
    "    results['location'] = activity['location']\n",
    "    return results"
   ]
  },
  {
   "cell_type": "code",
   "execution_count": null,
   "metadata": {},
   "outputs": [],
   "source": [
    "result_dataframes = {\n",
    "    'diesel DAC wind' : pd.DataFrame(),\n",
    "    'diesel DAC poplar' : pd.DataFrame(),\n",
    "}"
   ]
  },
  {
   "cell_type": "code",
   "execution_count": null,
   "metadata": {},
   "outputs": [],
   "source": [
    "for db in pyprind.prog_percent(myDatabaseNames):\n",
    "        get_db = bd.Database(db)\n",
    "\n",
    "        diesel_act = [act for act in get_db if 'transport, freight, lorry' in act['name'] and 'diesel' in act['name']\n",
    "                                and 'World' in act['location']]\n",
    "        for i in diesel_act:\n",
    "                if \"DAC\" in i['name'] and \"wind\" in i['name']:\n",
    "                        result_dataframes['diesel DAC wind'] = pd.concat([result_dataframes['diesel DAC wind'],\n",
    "                                breakdown_calculations(get_db, i)],\n",
    "                                ignore_index = True\n",
    "                                )\n",
    "                if \"DAC\" in i['name'] and \"poplar\" in i['name']:\n",
    "                        result_dataframes['diesel DAC poplar'] = pd.concat([result_dataframes['diesel DAC poplar'],\n",
    "                                breakdown_calculations(get_db, i)],\n",
    "                                ignore_index = True\n",
    "                                )"
   ]
  },
  {
   "cell_type": "markdown",
   "metadata": {},
   "source": [
    "- Renaming columns so we can sum them"
   ]
  },
  {
   "cell_type": "code",
   "execution_count": null,
   "metadata": {},
   "outputs": [],
   "source": [
    "for i in result_dataframes:\n",
    "    df = result_dataframes[i]\n",
    "    for col in df.columns:\n",
    "        if \"transport, freight, lorry, diesel, 40t gross weight\" in col:\n",
    "            df.rename(columns = {str(col): \"transport, diesel truck \"}, inplace = True) \n",
    "        if \"Heavy duty truck\" in col:\n",
    "            df.rename(columns = {str(col): \"Heavy duty truck\"}, inplace = True)\n",
    "\n",
    "\n",
    "\n",
    "for i in result_dataframes:\n",
    "    df = result_dataframes[i]\n",
    "    df = df.fillna(0)\n",
    "    \n",
    "    df_new = pd.DataFrame()\n",
    "    df_tr = pd.DataFrame()\n",
    "    \n",
    "    for col in df.columns:\n",
    "        if 'transport, ' in col:\n",
    "            df_new = df[col].to_frame()\n",
    "            if 'transport, diesel truck' in col:\n",
    "                df.rename(columns={col: 'Total'}, inplace=True)\n",
    "        if 'Heavy duty truck' in col:\n",
    "            df_tr = df[col].to_frame()\n",
    "        if 'market for diesel,' in col:\n",
    "            df.rename(columns={col: 'diesel'}, inplace=True)\n",
    "\n",
    "\n",
    "    if not df_new.empty:\n",
    "        df_tot = df_new.sum(axis=1)\n",
    "        col_name = df_new.columns[0]\n",
    "        df_tot = df_tot.to_frame(name=col_name)\n",
    "    else:\n",
    "        df_tot = pd.DataFrame()\n",
    "\n",
    "    if not df_tr.empty:\n",
    "        df_truck = df_tr.sum(axis=1)\n",
    "        col_name = df_tr.columns[0]\n",
    "        df_truck = df_truck.to_frame(name=col_name)\n",
    "    else:\n",
    "        df_truck = pd.DataFrame()\n",
    "\n",
    "    columns_to_drop = []\n",
    "    for col in df.columns:\n",
    "        if \"transport, \" in col: \n",
    "            columns_to_drop.append(col)\n",
    "        if \"Heavy duty truck\" in col: \n",
    "            columns_to_drop.append(col)\n",
    "        if \"treatment\" in col: \n",
    "            columns_to_drop.append(col)\n",
    "    columns_to_drop = set(columns_to_drop)\n",
    "\n",
    "    for column in columns_to_drop:\n",
    "        if column in df.columns:\n",
    "            df.drop(column, axis=1, inplace=True)\n",
    "    \n",
    "    # Create the final dataframe\n",
    "    dfs_toadd = [df_tot, df_truck, df]\n",
    "    df_final = pd.concat(dfs_toadd, axis=1)\n",
    "    \n",
    "    # Replace the calculated dataframe with the modified\n",
    "    result_dataframes[i] = df_final\n",
    "    df = result_dataframes[i]"
   ]
  },
  {
   "cell_type": "code",
   "execution_count": null,
   "metadata": {},
   "outputs": [],
   "source": [
    "dieselFileName = 'diesel breakdown results regional.xlsx'\n",
    "\n",
    "import openpyxl \n",
    "import os\n",
    "\n",
    "def check_or_create_excel_file(filePath):\n",
    "    if not os.path.exists(filePath):\n",
    "        wb = openpyxl.Workbook()\n",
    "        wb.save(filePath)\n",
    "        print(f\"Excel file created at {filePath}\")\n",
    "\n",
    "def write_dataframes_to_excel(dictionary, file_name):\n",
    "    check_or_create_excel_file(file_name)\n",
    "    with pd.ExcelWriter(file_name, engine = 'openpyxl', mode = 'a') as writer:        \n",
    "        for sheet_name, dataframe in dictionary.items():\n",
    "            if sheet_name in writer.book.sheetnames:\n",
    "                writer.book.remove(writer.book[sheet_name])\n",
    "            dataframe.to_excel(writer, sheet_name = sheet_name)\n",
    "    wb = openpyxl.load_workbook(file_name)\n",
    "    if wb.sheetnames[0] == 'Sheet':  # check if the workbook has any sheets\n",
    "        firstSheet = wb.sheetnames[0]  # get the name of the first sheet\n",
    "        wb.remove(wb[firstSheet])  # remove the first sheet\n",
    "        wb.save(file_name)"
   ]
  },
  {
   "cell_type": "code",
   "execution_count": null,
   "metadata": {},
   "outputs": [],
   "source": [
    "diesel_dataframes = {}\n",
    "for key in list(result_dataframes.keys()):\n",
    "    if 'diesel' in key:\n",
    "        diesel_dataframes[key] = result_dataframes[key]"
   ]
  },
  {
   "cell_type": "markdown",
   "metadata": {},
   "source": [
    "* Write dataframes to excel \n",
    "\n",
    "📍 This creates a folder called \"Results\" in the same directory"
   ]
  },
  {
   "cell_type": "code",
   "execution_count": null,
   "metadata": {},
   "outputs": [],
   "source": [
    "write_dataframes_to_excel(diesel_dataframes, os.path.join('Results', 'IPCC 2021','Diesel', dieselFileName))"
   ]
  },
  {
   "cell_type": "markdown",
   "metadata": {},
   "source": [
    "#### **2. Calculation of all activities (also regional) - Total scores**"
   ]
  },
  {
   "cell_type": "code",
   "execution_count": null,
   "metadata": {},
   "outputs": [],
   "source": [
    "acts_get =['transport, freight, lorry, diesel, 40t gross weight,']\n",
    "db_store = []\n",
    "for i in databases:\n",
    "    if \"ecoinvent_cutoff_3.8_remind\" in i: \n",
    "        db_store.append(i)\n",
    "db_store"
   ]
  },
  {
   "cell_type": "code",
   "execution_count": null,
   "metadata": {},
   "outputs": [],
   "source": [
    "def multiLCA_calculations(db, FUs: list, methods: list): #<---- Activity list as dictionary and method list\n",
    "    acts= []\n",
    "    for i in FUs:\n",
    "        names = {i:1}\n",
    "        acts.append(names)\n",
    "\n",
    "    calculationSetup = {'inv' : acts, 'ia' : methods}  #<---- Change the method when you need to\n",
    "    calculation_setups['breakdown'] = calculationSetup\n",
    "    multilca = MultiLCA('breakdown')  \n",
    "    df = pd.DataFrame(multilca.results, columns=[met  for met in methods])\n",
    "    df.insert(0, \"Activity name\", [act['name'] for act in FUs])\n",
    "    df.insert(1, \"Database\", db.split(\"_\")[4])\n",
    "    df.insert(2, \"Year\", db.split(\"_\")[-1])\n",
    "    df.insert(3, \"Location\", [act['location'] for act in FUs])\n",
    "    \n",
    "    return df"
   ]
  },
  {
   "cell_type": "markdown",
   "metadata": {},
   "source": [
    "- Function for mapping activities "
   ]
  },
  {
   "cell_type": "code",
   "execution_count": null,
   "metadata": {},
   "outputs": [],
   "source": [
    "def classifiy_ds_names(df):\n",
    "    df.loc[df[\"Activity name\"].str.contains(\"diesel\"), \"Fuel\"] = \"Diesel\"\n",
    "    df.loc[df[\"Activity name\"].str.contains(\"wind\"), \"hydrogen\"] = \"Wind\"\n",
    "    df.loc[(df[\"Activity name\"].str.contains(\"poplar\")), \"hydrogen\"] = \"biomass w/CCS\"\n",
    "    df.loc[(df[\"Activity name\"].str.contains(\"biomass\")), \"hydrogen\"] = \"biomass w/CCS\"\n",
    "    df.loc[df[\"Activity name\"].str.contains(\"DAC\"), \"CO2\"] = \"DAC\"\n",
    "    df.loc[df[\"Activity name\"].str.contains(\"dioxide\"), \"CO2\"] = \"post\"\n",
    "\n",
    "    return df"
   ]
  },
  {
   "cell_type": "markdown",
   "metadata": {},
   "source": [
    "- Calculations"
   ]
  },
  {
   "cell_type": "code",
   "execution_count": null,
   "metadata": {},
   "outputs": [],
   "source": [
    "storing = []\n",
    "for db in pyprind.prog_percent(db_store): \n",
    "    get_db = [bd.Database(db_tr) for db_tr in databases if db_tr == db.split(\"_3.8_\")[1]][0]\n",
    "    get_diesel = [act for act in get_db if \"diesel\" in act['name'] and \"transport\" in act['name'] and any(x in act['name'].lower() for x in [\"DAC\", \"wind\", \"poplar\", \"dioxide\"])]\n",
    "\n",
    "    trucks = get_diesel\n",
    "    df = multiLCA_calculations(db, trucks, method)\n",
    "    list_df = [df]\n",
    "    storing = storing + list_df\n",
    "\n",
    "df_STORE_all = pd.concat(storing, axis=0)\n",
    "df_STORE_all = df_STORE_all.reset_index(drop=True)\n",
    "df_STORE = classifiy_ds_names(df_STORE_all)\n",
    "df_STORE.to_excel(\"Total_score_regional_nonIntegrated.xlsx\")"
   ]
  },
  {
   "cell_type": "markdown",
   "metadata": {},
   "source": [
    "##### **3. Technology sensitivity**"
   ]
  },
  {
   "cell_type": "code",
   "execution_count": null,
   "metadata": {},
   "outputs": [],
   "source": [
    "def classifiy_ds_names(df):\n",
    "    df.loc[df[\"Activity name\"].str.contains(\"DAC\"), \"CO2\"] = \"DAC\"\n",
    "    df.loc[df[\"Activity name\"].str.contains(\"direct air capture\"), \"CO2\"] = \"DAC\"\n",
    "    df.loc[df[\"Activity name\"].str.contains(\"post-combustion\"), \"CO2\"] = \"post-combustion\"\n",
    "    df.loc[df[\"Activity name\"].str.contains(\"electrolysis\"), \"hydrogen\"] = \"electrolysis\"\n",
    "    df.loc[(df[\"Activity name\"].str.contains(\"poplar\")), \"hydrogen\"] = \"poplar\"\n",
    "    df.loc[(df[\"Activity name\"].str.contains(\"gasification of woody biomass\")), \"hydrogen\"] = \"gasification - biomass\"\n",
    "    df.loc[(df[\"Activity name\"].str.contains(\"hard coal gasification\")), \"hydrogen\"] = \"gasification - hard coal\"\n",
    "    df.loc[df[\"Activity name\"].str.contains(\"mix\"), \"electricity\"] = \"grid\"\n",
    "    df.loc[df[\"Activity name\"].str.contains(\"1-3MW turbine_ offshore\"), \"electricity\"] = \"wind - offshore - 1-3MW\"\n",
    "    df.loc[df[\"Activity name\"].str.contains(\"1-3MW turbine_ onshore\"), \"electricity\"] = \"wind - onshore - 1-3MW\"\n",
    "    df.loc[df[\"Activity name\"].str.contains(\">3MW turbine\"), \"electricity\"] = \"wind - 3MW\"\n",
    "    df.loc[df[\"Activity name\"].str.contains(\"nuclear\"), \"electricity\"] = \"nuclear\"\n",
    "    df.loc[df[\"Activity name\"].str.contains(\"_hydro_ pumped storage\"), \"electricity\"] = \"hydro, pumped storage\"\n",
    "    df.loc[df[\"Activity name\"].str.contains(\"_hydro_ reservoir_ alpine region\"), \"electricity\"] = \"hydro, reservoir, alpine\"\n",
    "    df.loc[df[\"Activity name\"].str.contains(\"_hydro_ reservoir_ non-alpine region\"), \"electricity\"] = \"hydro, reservoir, non-alpine\"\n",
    "    df.loc[df[\"Activity name\"].str.contains(\"_hydro_ run-of-river\"), \"electricity\"] = \"hydro, run-of-river\"\n",
    "    df.loc[df[\"Activity name\"].str.contains(\"solar\"), \"electricity\"] = \"solar\"\n",
    "    df.loc[df[\"Activity name\"].str.contains(\"Alkaline\"), \"electrolyzer\"] = \"Alkaline\"\n",
    "    df.loc[df[\"Activity name\"].str.contains(\"PEM\"), \"electrolyzer\"] = \"PEM\"\n",
    "    df.loc[df[\"Activity name\"].str.contains(\"waste heat\"), \"heat\"] = \"waste\"\n",
    "    df.loc[df[\"Activity name\"].str.contains(\"industrial steam heat\"), \"heat\"] = \"industrial steam heat\"\n",
    "    df.loc[df[\"Activity name\"].str.contains(\"heat pump heat\"), \"heat\"] = \"heat pump heat\"\n",
    "    df.loc[df[\"Activity name\"].str.contains(\"CCS\"), \"CCS\"] = True\n",
    "\n",
    "    return df"
   ]
  },
  {
   "cell_type": "code",
   "execution_count": null,
   "metadata": {},
   "outputs": [],
   "source": [
    "db_store = []\n",
    "for i in databases:\n",
    "    if \"ecoinvent_cutoff_3.8_remind\" in i: \n",
    "        db_store.append(i)\n",
    "acts_get =['transport, freight, lorry, diesel, 40t gross weight,']"
   ]
  },
  {
   "cell_type": "code",
   "execution_count": null,
   "metadata": {},
   "outputs": [],
   "source": [
    "storing = []\n",
    "for db in pyprind.prog_percent(db_store): \n",
    "    get_db = [bd.Database(db_tr) for db_tr in databases if db_tr == db.split(\"_3.8_\")[1]][0]\n",
    "    get_diesel = [act for act in get_db if \"transport\" in act['name'] and any(x in act['name'] for x in [\"DAC\", \"post\"])]\n",
    "    trucks = get_diesel\n",
    "    df = multiLCA_calculations(db, trucks, method)\n",
    "    list_df = [df]\n",
    "    storing = storing + list_df\n",
    "\n",
    "df_STORE_all = pd.concat(storing, axis=0)\n",
    "df_STORE_all = df_STORE_all.reset_index(drop=True)\n",
    "df_STORE = classifiy_ds_names(df_STORE_all)\n",
    "df_STORE.to_excel(\"Total_score_techsens_nonIntegrated.xlsx\")"
   ]
  }
 ],
 "metadata": {
  "kernelspec": {
   "display_name": "bwtest",
   "language": "python",
   "name": "python3"
  },
  "language_info": {
   "codemirror_mode": {
    "name": "ipython",
    "version": 3
   },
   "file_extension": ".py",
   "mimetype": "text/x-python",
   "name": "python",
   "nbconvert_exporter": "python",
   "pygments_lexer": "ipython3",
   "version": "3.9.16"
  },
  "orig_nbformat": 4
 },
 "nbformat": 4,
 "nbformat_minor": 2
}
