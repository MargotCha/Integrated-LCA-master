{
 "cells": [
  {
   "cell_type": "markdown",
   "metadata": {},
   "source": [
    "## **Calculations for integrated LCA**"
   ]
  },
  {
   "cell_type": "code",
   "execution_count": null,
   "metadata": {},
   "outputs": [],
   "source": [
    "import os\n",
    "import sys\n",
    "import pandas as pd\n",
    "sys.path.append(os.path.abspath(os.path.join(os.getcwd(), '../../')))\n",
    "\n",
    "from IntLCA import intLCA\n",
    "from IntLCA.utils.fetcher import ActivityFilter"
   ]
  },
  {
   "cell_type": "markdown",
   "metadata": {},
   "source": [
    "##### **1. Access files**"
   ]
  },
  {
   "cell_type": "code",
   "execution_count": null,
   "metadata": {},
   "outputs": [],
   "source": [
    "project = \"Integrated LCA project\"\n",
    "scenarios = [\"SSP2-Base\", \"SSP2-PkBudg1150\", \"SSP2-PkBudg500\"]\n",
    "years = [2020, 2025, 2030, 2035, 2040, 2045, 2050]\n",
    "base_path = \"C:/Users/mcharalam/dev/prospectiveLCA/Premise/pLCA/Enhanced-Technosphere-wide-LCA-paper/Integrated_LCA/Notebooks/Setting up/export\" #--> Change this to the path where the data is stored\n",
    "directory = \"Results\"\n",
    "methods = [\"IPCC 2021\"]"
   ]
  },
  {
   "cell_type": "code",
   "execution_count": null,
   "metadata": {},
   "outputs": [],
   "source": [
    "# Instantiate the IntLCA class\n",
    "int_lca = intLCA.IntLCA(project, scenarios, years, base_path, directory, methods)"
   ]
  },
  {
   "cell_type": "code",
   "execution_count": null,
   "metadata": {},
   "outputs": [],
   "source": [
    "# Access the csv files and return a list of paths. \n",
    "paths = int_lca.access_data()"
   ]
  },
  {
   "cell_type": "markdown",
   "metadata": {},
   "source": [
    "##### **2. User specifications**"
   ]
  },
  {
   "cell_type": "markdown",
   "metadata": {},
   "source": [
    "- *Activities to run calculations:*"
   ]
  },
  {
   "cell_type": "code",
   "execution_count": null,
   "metadata": {},
   "outputs": [],
   "source": [
    "keys_to_run = [\n",
    "    {\"starts\": \"transport, freight, lorry\", \"includes_all\": [\"diesel\", \"40t\", \"long haul\"], \"location\": \"World\"}\n",
    "]"
   ]
  },
  {
   "cell_type": "markdown",
   "metadata": {},
   "source": [
    "- *Activities to add:*"
   ]
  },
  {
   "cell_type": "code",
   "execution_count": null,
   "metadata": {},
   "outputs": [],
   "source": [
    "#keys for the activity filter - The following activities will be added one at a time.\n",
    "#Each dictionary represents a set of activities with the same name but for all the IAM activities. \n",
    "#We will update the current market for diesel (\"World\") which is in our foreground activity to inlcude the following activities, while keeping the regional fractions (This is an assumption)\n",
    "keys_to_add = [\n",
    "    {\"starts\": \"diesel production,--\", \"includes_all\": [\"PEM\", \"DAC\", \">3MW\"], \"excluding_locations\": [\"GLO\", \"RER\"]},\n",
    "    {\"starts\": \"diesel production,--\", \"includes_all\": [\"wet poplar\", \"DAC\", \"CCS\"], \"excluding_locations\": [\"GLO\", \"RER\"]}\n",
    "]"
   ]
  },
  {
   "cell_type": "markdown",
   "metadata": {},
   "source": [
    "- *Activities to modify:*"
   ]
  },
  {
   "cell_type": "code",
   "execution_count": null,
   "metadata": {},
   "outputs": [],
   "source": [
    "keys_to_modify = [\n",
    "        {\"includes_all\": [\"diesel production, synthetic, from Fischer Tropsch process\", \"energy allocation\"]},\n",
    "        {\"includes\": \"market for diesel, low-sulfur\", \"excludes\": \"period\", \"location\": \"World\"}\n",
    "]\n"
   ]
  },
  {
   "cell_type": "markdown",
   "metadata": {},
   "source": [
    "- *Activities to replace:*"
   ]
  },
  {
   "cell_type": "code",
   "execution_count": null,
   "metadata": {},
   "outputs": [],
   "source": [
    "keys_to_replace = [\n",
    "    {\"includes_all\": [\"Diesel, synthetic\", \"energy allocation\"]},\n",
    "    {\"includes\": \"market for diesel, low-sulfur\", \"excludes\":\"period\", \"excluding_locations\": \"World\"}\n",
    "]"
   ]
  },
  {
   "cell_type": "markdown",
   "metadata": {},
   "source": [
    "##### **3. Run calculations**"
   ]
  },
  {
   "cell_type": "code",
   "execution_count": null,
   "metadata": {},
   "outputs": [],
   "source": [
    "FU = 1\n",
    "\n",
    "for path in paths: #--> For each chosen path\n",
    "    A, B, A_inds, B_inds, A_inds_rev, B_inds_rev = int_lca.create_matrices(path)\n",
    "    exc_to_remove, act_to_modify, act_to_add, act_to_run = int_lca.filtering(A_inds, keys_to_add, keys_to_modify, keys_to_replace, keys_to_run)\n",
    "    # Create a dictionary with the unique names of H2 and CO2\n",
    "    unique_names_h2 = set(A_inds_rev[i][0].split(\"--\")[2] for i in act_to_add)\n",
    "    unique_names_co2 = set(A_inds_rev[i][0].split(\"--\")[1] for i in act_to_add)\n",
    "    name_dict_h2 = {}\n",
    "    for name in unique_names_h2:\n",
    "        name_dict_h2[name] = 0\n",
    "    name_dict_co2 = {}\n",
    "    for name in unique_names_co2:\n",
    "        name_dict_co2[name] = 0\n",
    "\n",
    "    # Remove the current activities from the technosphere that we will replace\n",
    "    A_ = int_lca.copy_technosphere(A)\n",
    "    A_ = int_lca.modify_technosphere_remove(exc_to_remove, act_to_modify)\n",
    "\n",
    "    storing_all_diesel = []\n",
    "    for nameh2 in name_dict_h2:\n",
    "        for nameco2 in name_dict_co2:\n",
    "            for i in act_to_add:\n",
    "                if A_inds_rev[i][0].split(\"--\")[1] == nameco2 and A_inds_rev[i][0].split(\"--\")[2] == nameh2: #Since we will have multiple names with several regions we make sure we only take the activities with the same name\n",
    "                    act_tech = A_inds_rev[i] \n",
    "                    for d in act_to_modify: #<---- Changing the background\n",
    "                        if \"energy allocation\" in A_inds_rev[i][0] and A_inds_rev[i][3] == A_inds_rev[d][3]:  # The activity we add needs to be in the same location with the activity we modify\n",
    "                            exc_remove = [exc_remove for e in exc_to_remove if \"energy allocation\" in A_inds_rev[e][0]\n",
    "                                          and A_inds_rev[e][3] == A_inds_rev[d][3]]\n",
    "                            A_ = int_lca.modify_technosphere_add(exc_remove[0], d, i)\n",
    "\n",
    "                        if \"market for diesel, low-sulfur\" in A_inds_rev[i][0] and A_inds_rev[i][3] == A_inds_rev[d][3]:\n",
    "                            exc_remove = [exc_remove for e in exc_to_remove if \"market for diesel, low-sulfur\" in A_inds_rev[e][0]]\n",
    "                            for dm in exc_remove:\n",
    "                                A_ = int_lca.modify_technosphere_add(dm, d, i)     #MOdify the foreground to include onlu the production pathway of choice\n",
    "                                \n",
    "#----------- Calculation ---------------\n",
    "            results = []\n",
    "            for idx in act_to_run:\n",
    "                if A_inds_rev[idx][-1] == A_inds_rev[idx][0].split(\",\")[5].split(\" \")[1]:  # Choosing only the truck activity constructed in the year of the IAM\n",
    "                    act_truck = A_inds_rev[idx]\n",
    "                    dfs = int_lca.breakdown(idx, FU, results, act_tech)\n",
    "#---------------------------------------\n",
    "\n",
    "            for i in act_to_add:\n",
    "                if A_inds_rev[i][0].split(\"--\")[1] == nameco2 and A_inds_rev[i][0].split(\"--\")[2] == nameh2: #Since we will have multiple names with several regions we make sure we only take the activities with the same name\n",
    "                    act_tech = A_inds_rev[i]  \n",
    "                    for d in act_to_modify: \n",
    "                        if \"energy allocation\" in A_inds_rev[i][0] and A_inds_rev[i][3] == A_inds_rev[d][3]: \n",
    "                            A_ = int_lca.modify_technosphere_remove(i, d)\n",
    "                                    \n",
    "                        if \"market for diesel, low-sulfur\" in A_inds_rev[i][0] and A_inds_rev[i][3] == A_inds_rev[d][3]:\n",
    "                            A_ = int_lca.modify_technosphere_remove(i, d) \n",
    "\n",
    "df_STORE = pd.concat(dfs)\n",
    "df_STORE = df_STORE.reset_index()\n",
    "df_STORE = df_STORE.drop(columns=[\"index\"])\n",
    "df_STORE = int_lca.organize_results(df_STORE)\n",
    "\n",
    "for col in df_STORE.columns:\n",
    "    if \"transport, freight, lorry,\" in col:\n",
    "        df_STORE.rename(columns={str(col): \"transport activity\"}, inplace=True)\n",
    "    if \"Heavy duty truck\" in col:\n",
    "        df_STORE.rename(columns={str(col): \"Heavy duty truck\"}, inplace=True)\n",
    "    if 'market for diesel' in col:\n",
    "        df_STORE.rename(columns={str(col): \"Fuel market\"}, inplace=True)\n",
    "\n",
    "for col in df_STORE.columns:\n",
    "    if 'transport activity' in col:\n",
    "        df_new = df_STORE.loc[:, col]\n",
    "    if 'Heavy duty truck' in col:\n",
    "        df_tr = df_STORE.loc[:, col]\n",
    "#\n",
    "df_tot = df_new.iloc[:, :].sum(axis=1)\n",
    "col_name = str(set(df_new.columns)).split('{')[1].split('}')[0]\n",
    "df_tot = df_tot.to_frame()\n",
    "df_tot[col_name] = df_tot.iloc[:, :]\n",
    "df_tot = df_tot.reset_index(drop=True)\n",
    "df_tot = df_tot.iloc[:, 1]\n",
    "\n",
    "df_truck = df_tr.iloc[:, :].sum(axis=1)\n",
    "col_name = str(set(df_tr.columns)).split('{')[1].split('}')[0]\n",
    "df_truck = df_truck.to_frame()\n",
    "df_truck[col_name] = df_truck.iloc[:, :]\n",
    "df_truck = df_truck.reset_index(drop=True)\n",
    "df_truck = df_truck.iloc[:, 1]\n",
    "\n",
    "columns_to_drop = []\n",
    "for col in df_STORE.columns:\n",
    "    if \"transport activity\" in col:\n",
    "        columns_to_drop.append(col)\n",
    "    if \"Heavy duty truck\" in col:\n",
    "        columns_to_drop.append(col)\n",
    "columns_to_drop = set(columns_to_drop)\n",
    "\n",
    "for column in columns_to_drop:\n",
    "    if column in df_STORE.columns:\n",
    "        df_STORE.drop(column, axis=1, inplace=True)\n",
    "\n",
    "dfs_toadd = [df_tot, df_truck, df_STORE]\n",
    "df_final = pd.concat(dfs_toadd, axis=1)\n"
   ]
  },
  {
   "cell_type": "markdown",
   "metadata": {},
   "source": [
    "##### **4. Save results**"
   ]
  },
  {
   "cell_type": "code",
   "execution_count": null,
   "metadata": {},
   "outputs": [],
   "source": [
    "int_lca.save_results(\"Results\", df_final)"
   ]
  }
 ],
 "metadata": {
  "kernelspec": {
   "display_name": "bwtest",
   "language": "python",
   "name": "python3"
  },
  "language_info": {
   "codemirror_mode": {
    "name": "ipython",
    "version": 3
   },
   "file_extension": ".py",
   "mimetype": "text/x-python",
   "name": "python",
   "nbconvert_exporter": "python",
   "pygments_lexer": "ipython3",
   "version": "3.9.16"
  }
 },
 "nbformat": 4,
 "nbformat_minor": 2
}
